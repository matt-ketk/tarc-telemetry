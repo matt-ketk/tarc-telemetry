{
 "cells": [
  {
   "cell_type": "markdown",
   "metadata": {},
   "source": [
    "# Parsing MPU-6050 Gyroscope and Accelerometer Data with Python"
   ]
  },
  {
   "cell_type": "markdown",
   "metadata": {},
   "source": [
    "## i. Links of Interest\n",
    " - [ElectronicCats' Github Repo](https://github.com/ElectronicCats/mpu6050.git)"
   ]
  },
  {
   "cell_type": "markdown",
   "metadata": {},
   "source": [
    "## 1. Loading the file\n",
    "- used pandas to read the file\n",
    "\n",
    "- tacked on '0' to the FIFO data until each entry of FIFO data is 150 characters long"
   ]
  },
  {
   "cell_type": "code",
   "execution_count": 3,
   "metadata": {},
   "outputs": [
    {
     "name": "stderr",
     "output_type": "stream",
     "text": [
      "c:\\programdata\\miniconda3\\lib\\site-packages\\IPython\\core\\interactiveshell.py:3319: SettingWithCopyWarning: \n",
      "A value is trying to be set on a copy of a slice from a DataFrame\n",
      "\n",
      "See the caveats in the documentation: https://pandas.pydata.org/pandas-docs/stable/user_guide/indexing.html#returning-a-view-versus-a-copy\n",
      "  exec(code_obj, self.user_global_ns, self.user_ns)\n"
     ]
    }
   ],
   "source": [
    "import numpy as np\n",
    "import matplotlib.pyplot as plt\n",
    "import pandas as pd\n",
    "\n",
    "dir = '../test-data/'\n",
    "\n",
    "raw_data = pd.read_csv(\n",
    "    dir + 'successfulsample2.txt',\n",
    "    delimiter='\\t',\n",
    "    header=None\n",
    ")\n",
    "\n",
    "for i in range(len(raw_data[:][4])):\n",
    "    raw_data[:][4][i] += '0' * (150 - len(raw_data[:][4][i]))\n",
    "\n",
    "raw_fifo = np.vstack([list(num) for num in raw_data[:][4]])"
   ]
  },
  {
   "cell_type": "code",
   "execution_count": 10,
   "metadata": {},
   "outputs": [
    {
     "data": {
      "text/plain": [
       "array(['6', '6', '6', ..., '6', '6', '6'], dtype='<U1')"
      ]
     },
     "execution_count": 10,
     "metadata": {},
     "output_type": "execute_result"
    }
   ],
   "source": []
  },
  {
   "cell_type": "markdown",
   "metadata": {
    "scrolled": true
   },
   "source": [
    "## 2. Bitwise Operations to Extract Quaternion Information\n"
   ]
  },
  {
   "cell_type": "code",
   "execution_count": 7,
   "metadata": {},
   "outputs": [
    {
     "data": {
      "text/plain": [
       "array([[1.00860421e+08, 8.40176680e+07, 1.73027840e+07, 1.00860169e+08],\n",
       "       [1.00860421e+08, 8.40179280e+07, 1.51388163e+08, 1.17507841e+08],\n",
       "       [1.00860421e+08, 8.39516190e+07, 1.70416640e+07, 8.42145290e+07],\n",
       "       ...,\n",
       "       [1.00860421e+08, 8.39531610e+07, 3.37510400e+07, 3.39486720e+07],\n",
       "       [1.00860421e+08, 8.39531610e+07, 3.37510400e+07, 3.39486720e+07],\n",
       "       [1.00860421e+08, 8.39531610e+07, 1.17506050e+08, 1.00861185e+08]])"
      ]
     },
     "execution_count": 7,
     "metadata": {},
     "output_type": "execute_result"
    }
   ],
   "source": [
    "def bitwise_op_quat_32(packet, numrange):\n",
    "    return np.bitwise_or(\n",
    "        np.bitwise_or(packet[:,numrange[0]].astype(int) << 24, packet[:,numrange[1]].astype(int) << 16),\n",
    "        np.bitwise_or(packet[:,numrange[2]].astype(int) << 8, packet[:,numrange[3]].astype(int))\n",
    "    )\n",
    "\n",
    "def dmp_get_quaternion_32(data, packet):\n",
    "    data[:,0] = bitwise_op_quat_32(packet, range(4))\n",
    "    data[:,1] = bitwise_op_quat_32(packet, range(4,8))\n",
    "    data[:,2] = bitwise_op_quat_32(packet, range(8,12))\n",
    "    data[:,3] = bitwise_op_quat_32(packet, range(12,16))\n",
    "    return data\n",
    "\n",
    "def dmp_get_quaternion_16(data, packet):\n",
    "    data[:,0] = np.bitwise_or(packet[:,0] << 8, packet[:,1])\n",
    "    data[:,1] = np.bitwise_or(packet[:,4] << 8, packet[:,5])\n",
    "    data[:,2] = np.bitwise_or(packet[:,8] << 8, packet[:,9])\n",
    "    data[:,3] = np.bitwise_or(packet[:,12] << 8, packet[:13])\n",
    "    \n",
    "def dmp_get_quaternion(q, packet):\n",
    "    qI = np.zeros((len(packet), 4))\n",
    "    status = dmp_get_quaternion_32(qI, packet)\n",
    "    return np.divide(qI, 16384.0, where=status==0,out=status)\n",
    "    \n",
    "    \n",
    "dmp_get_quaternion(np.zeros((len(raw_fifo), 4)), raw_fifo)\n",
    "    "
   ]
  },
  {
   "cell_type": "code",
   "execution_count": 1,
   "metadata": {},
   "outputs": [],
   "source": [
    "# dmpGetQuaternion(quats, raw_fifo)\n",
    "# a=np.array(list('213130000'))\n",
    "# a[0].astype(int)"
   ]
  },
  {
   "cell_type": "code",
   "execution_count": 79,
   "metadata": {},
   "outputs": [
    {
     "data": {
      "text/plain": [
       "[0, 1, 2, 3]"
      ]
     },
     "execution_count": 79,
     "metadata": {},
     "output_type": "execute_result"
    }
   ],
   "source": [
    "[x for x in range(4)]"
   ]
  },
  {
   "cell_type": "code",
   "execution_count": 6,
   "metadata": {},
   "outputs": [
    {
     "data": {
      "text/plain": [
       "array([ True,  True,  True,  True, False, False])"
      ]
     },
     "execution_count": 6,
     "metadata": {},
     "output_type": "execute_result"
    }
   ],
   "source": []
  },
  {
   "cell_type": "code",
   "execution_count": null,
   "metadata": {},
   "outputs": [],
   "source": []
  }
 ],
 "metadata": {
  "kernelspec": {
   "display_name": "Python 3",
   "language": "python",
   "name": "python3"
  },
  "language_info": {
   "codemirror_mode": {
    "name": "ipython",
    "version": 3
   },
   "file_extension": ".py",
   "mimetype": "text/x-python",
   "name": "python",
   "nbconvert_exporter": "python",
   "pygments_lexer": "ipython3",
   "version": "3.7.4"
  }
 },
 "nbformat": 4,
 "nbformat_minor": 4
}
