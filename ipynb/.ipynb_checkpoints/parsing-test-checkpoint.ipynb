{
 "cells": [
  {
   "cell_type": "markdown",
   "metadata": {},
   "source": [
    "# Parsing MPU-6050 Gyroscope and Accelerometer Data with Python"
   ]
  },
  {
   "cell_type": "markdown",
   "metadata": {},
   "source": [
    "## i. Links of Interest\n",
    " - [ElectronicCats' Github Repo](https://github.com/ElectronicCats/mpu6050.git)"
   ]
  },
  {
   "cell_type": "markdown",
   "metadata": {},
   "source": [
    "## 1. Loading the file\n",
    "- used pandas to read the file\n",
    "\n",
    "- tacked on '0' to the FIFO data until each entry of FIFO data is 150 characters long"
   ]
  },
  {
   "cell_type": "code",
   "execution_count": 24,
   "metadata": {},
   "outputs": [
    {
     "data": {
      "text/plain": [
       "array([[1.0, 0.0, 0.0, 0.0,\n",
       "        '632552241850631970042242250134202255255255255003313300229025523517470035132317630641781060000000000000000000000000000000000000000000000000000000000000',\n",
       "        1115],\n",
       "       [1.0, 0.0, 0.0, 0.0,\n",
       "        '632552389603717122602750173092142192552552331642552552002800114525517717360055181203632551272491781060000000000000000000000000000000000000000000000000',\n",
       "        1115],\n",
       "       [1.0, 0.0, 0.0, 0.01,\n",
       "        '632551031490553124002115321801261291610213655255254210590190118255208621780411173632551272491781060000000000000000000000000000000000000000000000000000',\n",
       "        1116],\n",
       "       [0.98, 0.14, -0.11, -0.08,\n",
       "        '621892362259533120124825512616725023912948061412352551666116025524017335411394621162541226663255127249178106000000000000000000000000000000000000000000',\n",
       "        16]], dtype=object)"
      ]
     },
     "execution_count": 24,
     "metadata": {},
     "output_type": "execute_result"
    }
   ],
   "source": [
    "import numpy as np\n",
    "import matplotlib.pyplot as plt\n",
    "import pandas as pd\n",
    "\n",
    "dir = '../test-data/'\n",
    "\n",
    "raw_data = pd.read_csv(\n",
    "    dir + 'successfulsample2.txt',\n",
    "    delimiter='\\t',\n",
    "    header=None\n",
    ")\n",
    "\n",
    "for i in range(len(raw_data[:][4])):\n",
    "    raw_data[:][4][i] += '0' * (150 - len(raw_data[:][4][i]))\n",
    "\n",
    "raw_fifo = np.vstack([list(num) for num in raw_data[:][4]])\n",
    "raw_data"
   ]
  },
  {
   "cell_type": "code",
   "execution_count": 10,
   "metadata": {},
   "outputs": [
    {
     "data": {
      "text/plain": [
       "array(['6', '6', '6', ..., '6', '6', '6'], dtype='<U1')"
      ]
     },
     "execution_count": 10,
     "metadata": {},
     "output_type": "execute_result"
    }
   ],
   "source": []
  },
  {
   "cell_type": "markdown",
   "metadata": {
    "scrolled": true
   },
   "source": [
    "## 2. Bitwise Operations to Extract Quaternion Information\n"
   ]
  },
  {
   "cell_type": "code",
   "execution_count": 3,
   "metadata": {},
   "outputs": [
    {
     "data": {
      "text/plain": [
       "array([[1.00860421e+08, 8.40176680e+07, 1.73027840e+07, 1.00860169e+08],\n",
       "       [1.00860421e+08, 8.40179280e+07, 1.51388163e+08, 1.17507841e+08],\n",
       "       [1.00860421e+08, 8.39516190e+07, 1.70416640e+07, 8.42145290e+07],\n",
       "       ...,\n",
       "       [1.00860421e+08, 8.39531610e+07, 3.37510400e+07, 3.39486720e+07],\n",
       "       [1.00860421e+08, 8.39531610e+07, 3.37510400e+07, 3.39486720e+07],\n",
       "       [1.00860421e+08, 8.39531610e+07, 1.17506050e+08, 1.00861185e+08]])"
      ]
     },
     "execution_count": 3,
     "metadata": {},
     "output_type": "execute_result"
    }
   ],
   "source": [
    "def bitwise_op_quat_32(packet, numrange):\n",
    "    return np.bitwise_or(\n",
    "        np.bitwise_or(packet[:,numrange[0]].astype(int) << 24, packet[:,numrange[1]].astype(int) << 16),\n",
    "        np.bitwise_or(packet[:,numrange[2]].astype(int) << 8, packet[:,numrange[3]].astype(int))\n",
    "    )\n",
    "\n",
    "def dmp_get_quaternion_32(data, packet):\n",
    "    data[:,0] = bitwise_op_quat(packet, range(4))\n",
    "    data[:,1] = bitwise_op_quat(packet, range(4,8))\n",
    "    data[:,2] = bitwise_op_quat(packet, range(8,12))\n",
    "    data[:,3] = bitwise_op_quat(packet, range(12,16))\n",
    "    return data\n",
    "\n",
    "def dmp_get_quaternion_16(data, packet):\n",
    "    data[:,0] = np.bitwise_or(packet[:,0] << 8, packet[:,1])\n",
    "    data[:,1] = np.bitwise_or(packet[:,4] << 8, packet[:,5])\n",
    "    data[:,2] = np.bitwise_or(packet[:,8] << 8, packet[:,9])\n",
    "    data[:,3] = np.bitwise_or(packet[:,12] << 8, packet[:13])\n",
    "    \n",
    "def dmp_get_quaternion(q, packet):\n",
    "    qI = np.zeros(4)\n",
    "    status = dmp_get_quaternion(qI, packet)\n",
    "\n",
    "dmp_get_quaternion(np.zeros((len(raw_fifo), 4)), raw_fifo)\n",
    "    "
   ]
  },
  {
   "cell_type": "code",
   "execution_count": 37,
   "metadata": {},
   "outputs": [
    {
     "ename": "OverflowError",
     "evalue": "Python int too large to convert to C long",
     "output_type": "error",
     "traceback": [
      "\u001b[1;31m---------------------------------------------------------------------------\u001b[0m",
      "\u001b[1;31mOverflowError\u001b[0m                             Traceback (most recent call last)",
      "\u001b[1;32m<ipython-input-37-f919c979c085>\u001b[0m in \u001b[0;36m<module>\u001b[1;34m\u001b[0m\n\u001b[1;32m----> 1\u001b[1;33m \u001b[0mdmpGetQuaternion\u001b[0m\u001b[1;33m(\u001b[0m\u001b[0mquats\u001b[0m\u001b[1;33m,\u001b[0m \u001b[0mraw_fifo\u001b[0m\u001b[1;33m)\u001b[0m\u001b[1;33m\u001b[0m\u001b[1;33m\u001b[0m\u001b[0m\n\u001b[0m\u001b[0;32m      2\u001b[0m \u001b[1;31m# a=np.array(list('213130000'))\u001b[0m\u001b[1;33m\u001b[0m\u001b[1;33m\u001b[0m\u001b[1;33m\u001b[0m\u001b[0m\n\u001b[0;32m      3\u001b[0m \u001b[1;31m# a[0].astype(int)\u001b[0m\u001b[1;33m\u001b[0m\u001b[1;33m\u001b[0m\u001b[1;33m\u001b[0m\u001b[0m\n",
      "\u001b[1;32m<ipython-input-36-d185fa5821e3>\u001b[0m in \u001b[0;36mdmpGetQuaternion\u001b[1;34m(data, packet)\u001b[0m\n\u001b[0;32m     11\u001b[0m \u001b[1;32mdef\u001b[0m \u001b[0mdmpGetQuaternion\u001b[0m\u001b[1;33m(\u001b[0m\u001b[0mdata\u001b[0m\u001b[1;33m,\u001b[0m \u001b[0mpacket\u001b[0m\u001b[1;33m)\u001b[0m\u001b[1;33m:\u001b[0m\u001b[1;33m\u001b[0m\u001b[1;33m\u001b[0m\u001b[0m\n\u001b[0;32m     12\u001b[0m     \u001b[0mdata\u001b[0m \u001b[1;33m=\u001b[0m \u001b[0mdata\u001b[0m\u001b[1;33m.\u001b[0m\u001b[0mcopy\u001b[0m\u001b[1;33m(\u001b[0m\u001b[1;33m)\u001b[0m\u001b[1;33m\u001b[0m\u001b[1;33m\u001b[0m\u001b[0m\n\u001b[1;32m---> 13\u001b[1;33m     \u001b[0mdata\u001b[0m\u001b[1;33m[\u001b[0m\u001b[1;33m:\u001b[0m\u001b[1;33m,\u001b[0m\u001b[1;36m0\u001b[0m\u001b[1;33m]\u001b[0m \u001b[1;33m=\u001b[0m \u001b[0mbitwise_op_quat\u001b[0m\u001b[1;33m(\u001b[0m\u001b[0mpacket\u001b[0m\u001b[1;33m,\u001b[0m \u001b[0mrange\u001b[0m\u001b[1;33m(\u001b[0m\u001b[1;36m4\u001b[0m\u001b[1;33m)\u001b[0m\u001b[1;33m)\u001b[0m\u001b[1;33m\u001b[0m\u001b[1;33m\u001b[0m\u001b[0m\n\u001b[0m\u001b[0;32m     14\u001b[0m     \u001b[0mdata\u001b[0m\u001b[1;33m[\u001b[0m\u001b[1;33m:\u001b[0m\u001b[1;33m,\u001b[0m\u001b[1;36m1\u001b[0m\u001b[1;33m]\u001b[0m \u001b[1;33m=\u001b[0m \u001b[0mbitwise_op_quat\u001b[0m\u001b[1;33m(\u001b[0m\u001b[0mpacket\u001b[0m\u001b[1;33m,\u001b[0m \u001b[0mrange\u001b[0m\u001b[1;33m(\u001b[0m\u001b[1;36m4\u001b[0m\u001b[1;33m,\u001b[0m\u001b[1;36m8\u001b[0m\u001b[1;33m)\u001b[0m\u001b[1;33m)\u001b[0m\u001b[1;33m\u001b[0m\u001b[1;33m\u001b[0m\u001b[0m\n\u001b[0;32m     15\u001b[0m     \u001b[0mdata\u001b[0m\u001b[1;33m[\u001b[0m\u001b[1;33m:\u001b[0m\u001b[1;33m,\u001b[0m\u001b[1;36m2\u001b[0m\u001b[1;33m]\u001b[0m \u001b[1;33m=\u001b[0m \u001b[0mbitwise_op_quat\u001b[0m\u001b[1;33m(\u001b[0m\u001b[0mpacket\u001b[0m\u001b[1;33m,\u001b[0m \u001b[0mrange\u001b[0m\u001b[1;33m(\u001b[0m\u001b[1;36m8\u001b[0m\u001b[1;33m,\u001b[0m\u001b[1;36m12\u001b[0m\u001b[1;33m)\u001b[0m\u001b[1;33m)\u001b[0m\u001b[1;33m\u001b[0m\u001b[1;33m\u001b[0m\u001b[0m\n",
      "\u001b[1;32m<ipython-input-36-d185fa5821e3>\u001b[0m in \u001b[0;36mbitwise_op_quat\u001b[1;34m(packet, numrange)\u001b[0m\n\u001b[0;32m      2\u001b[0m     \u001b[0mpacket\u001b[0m \u001b[1;33m=\u001b[0m \u001b[0mnp\u001b[0m\u001b[1;33m.\u001b[0m\u001b[0marray\u001b[0m\u001b[1;33m(\u001b[0m\u001b[0mlist\u001b[0m\u001b[1;33m(\u001b[0m\u001b[0mpacket\u001b[0m\u001b[1;33m)\u001b[0m\u001b[1;33m)\u001b[0m\u001b[1;33m\u001b[0m\u001b[1;33m\u001b[0m\u001b[0m\n\u001b[0;32m      3\u001b[0m     return np.bitwise_or(\n\u001b[1;32m----> 4\u001b[1;33m         \u001b[0mnp\u001b[0m\u001b[1;33m.\u001b[0m\u001b[0mleft_shift\u001b[0m\u001b[1;33m(\u001b[0m\u001b[0mpacket\u001b[0m\u001b[1;33m[\u001b[0m\u001b[1;33m:\u001b[0m\u001b[1;33m]\u001b[0m\u001b[1;33m[\u001b[0m\u001b[0mnumrange\u001b[0m\u001b[1;33m[\u001b[0m\u001b[1;36m0\u001b[0m\u001b[1;33m]\u001b[0m\u001b[1;33m]\u001b[0m\u001b[1;33m.\u001b[0m\u001b[0mastype\u001b[0m\u001b[1;33m(\u001b[0m\u001b[0mint\u001b[0m\u001b[1;33m)\u001b[0m\u001b[1;33m,\u001b[0m \u001b[1;36m24\u001b[0m\u001b[1;33m)\u001b[0m\u001b[1;33m,\u001b[0m\u001b[1;33m\u001b[0m\u001b[1;33m\u001b[0m\u001b[0m\n\u001b[0m\u001b[0;32m      5\u001b[0m         np.bitwise_or(\n\u001b[0;32m      6\u001b[0m             \u001b[0mnp\u001b[0m\u001b[1;33m.\u001b[0m\u001b[0mleft_shift\u001b[0m\u001b[1;33m(\u001b[0m\u001b[0mpacket\u001b[0m\u001b[1;33m[\u001b[0m\u001b[1;33m:\u001b[0m\u001b[1;33m]\u001b[0m\u001b[1;33m[\u001b[0m\u001b[0mnumrange\u001b[0m\u001b[1;33m[\u001b[0m\u001b[1;36m1\u001b[0m\u001b[1;33m]\u001b[0m\u001b[1;33m]\u001b[0m\u001b[1;33m.\u001b[0m\u001b[0mastype\u001b[0m\u001b[1;33m(\u001b[0m\u001b[0mint\u001b[0m\u001b[1;33m)\u001b[0m\u001b[1;33m,\u001b[0m \u001b[1;36m16\u001b[0m\u001b[1;33m)\u001b[0m\u001b[1;33m,\u001b[0m\u001b[1;33m\u001b[0m\u001b[1;33m\u001b[0m\u001b[0m\n",
      "\u001b[1;31mOverflowError\u001b[0m: Python int too large to convert to C long"
     ]
    }
   ],
   "source": [
    "# dmpGetQuaternion(quats, raw_fifo)\n",
    "# a=np.array(list('213130000'))\n",
    "# a[0].astype(int)"
   ]
  },
  {
   "cell_type": "code",
   "execution_count": 79,
   "metadata": {},
   "outputs": [
    {
     "data": {
      "text/plain": [
       "[0, 1, 2, 3]"
      ]
     },
     "execution_count": 79,
     "metadata": {},
     "output_type": "execute_result"
    }
   ],
   "source": [
    "[x for x in range(4)]"
   ]
  },
  {
   "cell_type": "code",
   "execution_count": null,
   "metadata": {},
   "outputs": [],
   "source": []
  }
 ],
 "metadata": {
  "kernelspec": {
   "display_name": "Python 3",
   "language": "python",
   "name": "python3"
  },
  "language_info": {
   "codemirror_mode": {
    "name": "ipython",
    "version": 3
   },
   "file_extension": ".py",
   "mimetype": "text/x-python",
   "name": "python",
   "nbconvert_exporter": "python",
   "pygments_lexer": "ipython3",
   "version": "3.7.4"
  }
 },
 "nbformat": 4,
 "nbformat_minor": 4
}
